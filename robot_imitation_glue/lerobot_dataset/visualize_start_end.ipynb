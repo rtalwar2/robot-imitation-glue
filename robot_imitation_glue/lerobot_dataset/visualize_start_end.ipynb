{
 "cells": [
  {
   "cell_type": "code",
   "execution_count": 2,
   "metadata": {},
   "outputs": [],
   "source": [
    "from lerobot.common.datasets.lerobot_dataset import LeRobotDataset\n",
    "\n",
    "import numpy as np"
   ]
  },
  {
   "cell_type": "code",
   "execution_count": null,
   "metadata": {},
   "outputs": [],
   "source": []
  },
  {
   "cell_type": "code",
   "execution_count": null,
   "metadata": {},
   "outputs": [],
   "source": []
  },
  {
   "cell_type": "code",
   "execution_count": 4,
   "metadata": {},
   "outputs": [
    {
     "data": {
      "application/vnd.jupyter.widget-view+json": {
       "model_id": "b175a4a368c84e4eaf544f88223c7b81",
       "version_major": 2,
       "version_minor": 0
      },
      "text/plain": [
       "Resolving data files:   0%|          | 0/22 [00:00<?, ?it/s]"
      ]
     },
     "metadata": {},
     "output_type": "display_data"
    },
    {
     "data": {
      "application/vnd.jupyter.widget-view+json": {
       "model_id": "c3197eeabae143b5b067b88767b04a34",
       "version_major": 2,
       "version_minor": 0
      },
      "text/plain": [
       "Downloading data:   0%|          | 0/22 [00:00<?, ?files/s]"
      ]
     },
     "metadata": {},
     "output_type": "display_data"
    },
    {
     "data": {
      "application/vnd.jupyter.widget-view+json": {
       "model_id": "a0d72f5acc7f4861b3cac56b8d195c90",
       "version_major": 2,
       "version_minor": 0
      },
      "text/plain": [
       "Generating train split: 0 examples [00:00, ? examples/s]"
      ]
     },
     "metadata": {},
     "output_type": "display_data"
    }
   ],
   "source": [
    "DATASET_PATH = \"/home/tlips/Code/robot-imitation-glue/datasets/pour-cup-backup\"\n",
    "img_name =\"scene_image\"\n",
    "\n",
    "dataset = LeRobotDataset(\"\",DATASET_PATH,episodes=np.arange(0,22))\n",
    "\n"
   ]
  },
  {
   "cell_type": "code",
   "execution_count": null,
   "metadata": {},
   "outputs": [],
   "source": []
  },
  {
   "cell_type": "code",
   "execution_count": 5,
   "metadata": {},
   "outputs": [],
   "source": [
    "def custom_get_item(dataset, idx, ep_idx = None):\n",
    "    item = dataset.hf_dataset[idx]\n",
    "    if not ep_idx:\n",
    "        ep_idx = item[\"episode_index\"].item()\n",
    "\n",
    "\n",
    "\n",
    "\n",
    "    query_indices = None\n",
    "    if dataset.delta_indices is not None:\n",
    "        query_indices, padding = dataset._get_query_indices(idx, ep_idx)\n",
    "        query_result = dataset._query_hf_dataset(query_indices)\n",
    "        item = {**item, **padding}\n",
    "        for key, val in query_result.items():\n",
    "            item[key] = val\n",
    "\n",
    "    if len(dataset.meta.video_keys) > 0:\n",
    "        current_ts = item[\"timestamp\"].item()\n",
    "        query_timestamps = dataset._get_query_timestamps(current_ts, query_indices)\n",
    "        video_frames = dataset._query_videos(query_timestamps, ep_idx)\n",
    "        item = {**video_frames, **item}\n",
    "\n",
    "    if dataset.image_transforms is not None:\n",
    "        image_keys = dataset.meta.camera_keys\n",
    "        for cam in image_keys:\n",
    "            item[cam] = dataset.image_transforms(item[cam])\n",
    "\n",
    "    # Add task as a string\n",
    "    task_idx = item[\"task_index\"].item()\n",
    "    item[\"task\"] = dataset.meta.tasks[task_idx]\n",
    "\n",
    "    return item"
   ]
  },
  {
   "cell_type": "code",
   "execution_count": 81,
   "metadata": {},
   "outputs": [
    {
     "data": {
      "text/plain": [
       "{'wrist_image_original': tensor([[[0.4627, 0.4627, 0.4627,  ..., 0.5725, 0.5765, 0.5843],\n",
       "          [0.4627, 0.4627, 0.4627,  ..., 0.5725, 0.5765, 0.5843],\n",
       "          [0.4627, 0.4627, 0.4627,  ..., 0.5725, 0.5765, 0.5843],\n",
       "          ...,\n",
       "          [0.1765, 0.1765, 0.1765,  ..., 0.2235, 0.2235, 0.2235],\n",
       "          [0.1765, 0.1765, 0.1765,  ..., 0.2235, 0.2235, 0.2235],\n",
       "          [0.1765, 0.1765, 0.1765,  ..., 0.2235, 0.2235, 0.2235]],\n",
       " \n",
       "         [[0.4627, 0.4627, 0.4627,  ..., 0.6039, 0.6078, 0.6157],\n",
       "          [0.4627, 0.4627, 0.4627,  ..., 0.6039, 0.6078, 0.6157],\n",
       "          [0.4627, 0.4627, 0.4627,  ..., 0.6039, 0.6078, 0.6157],\n",
       "          ...,\n",
       "          [0.2431, 0.2431, 0.2431,  ..., 0.3451, 0.3451, 0.3451],\n",
       "          [0.2431, 0.2431, 0.2431,  ..., 0.3451, 0.3451, 0.3451],\n",
       "          [0.2431, 0.2431, 0.2431,  ..., 0.3451, 0.3451, 0.3451]],\n",
       " \n",
       "         [[0.4431, 0.4431, 0.4431,  ..., 0.6235, 0.6275, 0.6353],\n",
       "          [0.4431, 0.4431, 0.4431,  ..., 0.6235, 0.6275, 0.6353],\n",
       "          [0.4431, 0.4431, 0.4431,  ..., 0.6235, 0.6275, 0.6353],\n",
       "          ...,\n",
       "          [0.3725, 0.3725, 0.3725,  ..., 0.4667, 0.4667, 0.4667],\n",
       "          [0.3725, 0.3725, 0.3725,  ..., 0.4667, 0.4667, 0.4667],\n",
       "          [0.3725, 0.3725, 0.3725,  ..., 0.4667, 0.4667, 0.4667]]]),\n",
       " 'scene_image_original': tensor([[[0.9098, 0.9098, 0.9098,  ..., 0.3333, 0.3490, 0.3569],\n",
       "          [0.9098, 0.9098, 0.9098,  ..., 0.3333, 0.3490, 0.3529],\n",
       "          [0.9098, 0.9098, 0.9098,  ..., 0.3333, 0.3451, 0.3490],\n",
       "          ...,\n",
       "          [0.4549, 0.4549, 0.4549,  ..., 0.2941, 0.2902, 0.2863],\n",
       "          [0.4549, 0.4549, 0.4549,  ..., 0.2941, 0.2902, 0.2863],\n",
       "          [0.4549, 0.4549, 0.4549,  ..., 0.2941, 0.2902, 0.2902]],\n",
       " \n",
       "         [[0.9765, 0.9765, 0.9765,  ..., 0.3882, 0.4039, 0.4118],\n",
       "          [0.9765, 0.9765, 0.9765,  ..., 0.3882, 0.4039, 0.4078],\n",
       "          [0.9765, 0.9765, 0.9765,  ..., 0.3882, 0.4000, 0.4039],\n",
       "          ...,\n",
       "          [0.5059, 0.5059, 0.5059,  ..., 0.3137, 0.3098, 0.3059],\n",
       "          [0.5059, 0.5059, 0.5059,  ..., 0.3137, 0.3098, 0.3059],\n",
       "          [0.5059, 0.5059, 0.5059,  ..., 0.3137, 0.3098, 0.3098]],\n",
       " \n",
       "         [[0.9843, 0.9843, 0.9843,  ..., 0.4275, 0.4431, 0.4510],\n",
       "          [0.9843, 0.9843, 0.9843,  ..., 0.4275, 0.4431, 0.4471],\n",
       "          [0.9843, 0.9843, 0.9843,  ..., 0.4275, 0.4392, 0.4431],\n",
       "          ...,\n",
       "          [0.5098, 0.5098, 0.5098,  ..., 0.3451, 0.3412, 0.3373],\n",
       "          [0.5098, 0.5098, 0.5098,  ..., 0.3451, 0.3412, 0.3373],\n",
       "          [0.5098, 0.5098, 0.5098,  ..., 0.3451, 0.3412, 0.3412]]]),\n",
       " 'wrist_image': tensor([[[0.4431, 0.4471, 0.4510,  ..., 0.5686, 0.5804, 0.5804],\n",
       "          [0.4431, 0.4471, 0.4510,  ..., 0.5686, 0.5804, 0.5804],\n",
       "          [0.4431, 0.4471, 0.4510,  ..., 0.5686, 0.5804, 0.5804],\n",
       "          ...,\n",
       "          [0.1686, 0.1686, 0.1647,  ..., 0.2157, 0.2157, 0.2157],\n",
       "          [0.1686, 0.1647, 0.1608,  ..., 0.2118, 0.2118, 0.2118],\n",
       "          [0.1647, 0.1608, 0.1608,  ..., 0.2078, 0.2078, 0.2078]],\n",
       " \n",
       "         [[0.4627, 0.4667, 0.4706,  ..., 0.6078, 0.6196, 0.6196],\n",
       "          [0.4627, 0.4667, 0.4706,  ..., 0.6078, 0.6196, 0.6196],\n",
       "          [0.4627, 0.4667, 0.4706,  ..., 0.6078, 0.6196, 0.6196],\n",
       "          ...,\n",
       "          [0.2471, 0.2471, 0.2431,  ..., 0.3412, 0.3412, 0.3412],\n",
       "          [0.2471, 0.2431, 0.2392,  ..., 0.3373, 0.3373, 0.3373],\n",
       "          [0.2431, 0.2392, 0.2392,  ..., 0.3333, 0.3333, 0.3333]],\n",
       " \n",
       "         [[0.4588, 0.4627, 0.4667,  ..., 0.6314, 0.6431, 0.6431],\n",
       "          [0.4588, 0.4627, 0.4667,  ..., 0.6314, 0.6431, 0.6431],\n",
       "          [0.4588, 0.4627, 0.4667,  ..., 0.6314, 0.6431, 0.6431],\n",
       "          ...,\n",
       "          [0.3412, 0.3412, 0.3373,  ..., 0.4510, 0.4510, 0.4510],\n",
       "          [0.3412, 0.3373, 0.3333,  ..., 0.4471, 0.4471, 0.4471],\n",
       "          [0.3373, 0.3333, 0.3333,  ..., 0.4431, 0.4431, 0.4431]]]),\n",
       " 'scene_image': tensor([[[0.9098, 0.9098, 0.9098,  ..., 0.3255, 0.3333, 0.3333],\n",
       "          [0.9098, 0.9098, 0.9098,  ..., 0.3255, 0.3333, 0.3333],\n",
       "          [0.9059, 0.9059, 0.9059,  ..., 0.3176, 0.3216, 0.3216],\n",
       "          ...,\n",
       "          [0.4549, 0.4549, 0.4549,  ..., 0.2941, 0.2902, 0.2902],\n",
       "          [0.4549, 0.4549, 0.4549,  ..., 0.2941, 0.2941, 0.2902],\n",
       "          [0.4549, 0.4549, 0.4549,  ..., 0.2941, 0.2941, 0.2902]],\n",
       " \n",
       "         [[0.9765, 0.9765, 0.9765,  ..., 0.3451, 0.3529, 0.3529],\n",
       "          [0.9765, 0.9765, 0.9765,  ..., 0.3451, 0.3529, 0.3529],\n",
       "          [0.9725, 0.9725, 0.9725,  ..., 0.3373, 0.3412, 0.3412],\n",
       "          ...,\n",
       "          [0.5059, 0.5059, 0.5059,  ..., 0.3059, 0.3020, 0.3020],\n",
       "          [0.5059, 0.5059, 0.5059,  ..., 0.3059, 0.3059, 0.3020],\n",
       "          [0.5059, 0.5059, 0.5059,  ..., 0.3059, 0.3059, 0.3020]],\n",
       " \n",
       "         [[0.9843, 0.9843, 0.9843,  ..., 0.3843, 0.3922, 0.3922],\n",
       "          [0.9843, 0.9843, 0.9843,  ..., 0.3843, 0.3922, 0.3922],\n",
       "          [0.9804, 0.9804, 0.9804,  ..., 0.3765, 0.3804, 0.3804],\n",
       "          ...,\n",
       "          [0.5020, 0.5020, 0.5020,  ..., 0.3412, 0.3373, 0.3373],\n",
       "          [0.5020, 0.5020, 0.5020,  ..., 0.3412, 0.3412, 0.3373],\n",
       "          [0.5020, 0.5020, 0.5020,  ..., 0.3412, 0.3412, 0.3373]]]),\n",
       " 'next.reward': tensor(0.),\n",
       " 'next.success': tensor(False),\n",
       " 'seed': tensor(0),\n",
       " 'timestamp': tensor(0.),\n",
       " 'state': tensor([ 0.4259, -0.0261,  0.1720,  3.0806, -0.0405,  1.6950,  0.0800]),\n",
       " 'robot_pose': tensor([ 0.4259, -0.0261,  0.1720,  3.0806, -0.0405,  1.6950]),\n",
       " 'gripper_state': tensor(0.0800),\n",
       " 'joints': tensor([-3.5656, -1.7607,  2.0922, -1.9316, -1.5008, -3.6868]),\n",
       " 'action': tensor([ 0.4283, -0.0220,  0.1731, -0.1209,  0.9914,  0.0500,  0.9905,  0.1172,\n",
       "          0.0712,  0.0800]),\n",
       " 'frame_index': tensor(0),\n",
       " 'episode_index': tensor(0),\n",
       " 'index': tensor(0),\n",
       " 'task_index': tensor(0),\n",
       " 'task': ''}"
      ]
     },
     "execution_count": 81,
     "metadata": {},
     "output_type": "execute_result"
    }
   ],
   "source": [
    "custom_get_item(dataset,0,0)"
   ]
  },
  {
   "cell_type": "code",
   "execution_count": 7,
   "metadata": {},
   "outputs": [],
   "source": [
    "new_dataset = LeRobotDataset.create(\n",
    "        repo_id=\"\",\n",
    "        fps=dataset.fps,\n",
    "        root=DATASET_PATH + \"-recover\",\n",
    "        features=dataset.features,\n",
    "        use_videos=True,\n",
    "        image_writer_processes=0,\n",
    "        image_writer_threads=8,\n",
    "    )"
   ]
  },
  {
   "cell_type": "code",
   "execution_count": 8,
   "metadata": {},
   "outputs": [
    {
     "name": "stdout",
     "output_type": "stream",
     "text": [
      "0\n"
     ]
    },
    {
     "data": {
      "application/vnd.jupyter.widget-view+json": {
       "model_id": "f528c6d1da1f4ba0bb848c6d5c08a0f8",
       "version_major": 2,
       "version_minor": 0
      },
      "text/plain": [
       "Map:   0%|          | 0/443 [00:00<?, ? examples/s]"
      ]
     },
     "metadata": {},
     "output_type": "display_data"
    },
    {
     "data": {
      "application/vnd.jupyter.widget-view+json": {
       "model_id": "ab3890674cda4913813209acb82c8fa2",
       "version_major": 2,
       "version_minor": 0
      },
      "text/plain": [
       "Creating parquet from Arrow format:   0%|          | 0/1 [00:00<?, ?ba/s]"
      ]
     },
     "metadata": {},
     "output_type": "display_data"
    },
    {
     "name": "stdout",
     "output_type": "stream",
     "text": [
      "1\n"
     ]
    },
    {
     "data": {
      "application/vnd.jupyter.widget-view+json": {
       "model_id": "16a31bb78f304beebfb05a92494a66de",
       "version_major": 2,
       "version_minor": 0
      },
      "text/plain": [
       "Map:   0%|          | 0/424 [00:00<?, ? examples/s]"
      ]
     },
     "metadata": {},
     "output_type": "display_data"
    },
    {
     "data": {
      "application/vnd.jupyter.widget-view+json": {
       "model_id": "962a8865197b48b394cf31c171f07539",
       "version_major": 2,
       "version_minor": 0
      },
      "text/plain": [
       "Creating parquet from Arrow format:   0%|          | 0/1 [00:00<?, ?ba/s]"
      ]
     },
     "metadata": {},
     "output_type": "display_data"
    },
    {
     "name": "stdout",
     "output_type": "stream",
     "text": [
      "2\n"
     ]
    },
    {
     "data": {
      "application/vnd.jupyter.widget-view+json": {
       "model_id": "37c8611fd55148779e4ee44f9de59fd3",
       "version_major": 2,
       "version_minor": 0
      },
      "text/plain": [
       "Map:   0%|          | 0/409 [00:00<?, ? examples/s]"
      ]
     },
     "metadata": {},
     "output_type": "display_data"
    },
    {
     "data": {
      "application/vnd.jupyter.widget-view+json": {
       "model_id": "dafc572e41424d1493b1456edcbb5c72",
       "version_major": 2,
       "version_minor": 0
      },
      "text/plain": [
       "Creating parquet from Arrow format:   0%|          | 0/1 [00:00<?, ?ba/s]"
      ]
     },
     "metadata": {},
     "output_type": "display_data"
    },
    {
     "name": "stdout",
     "output_type": "stream",
     "text": [
      "3\n"
     ]
    },
    {
     "data": {
      "application/vnd.jupyter.widget-view+json": {
       "model_id": "cea938450230474e9d03a8e1d3d0cbef",
       "version_major": 2,
       "version_minor": 0
      },
      "text/plain": [
       "Map:   0%|          | 0/397 [00:00<?, ? examples/s]"
      ]
     },
     "metadata": {},
     "output_type": "display_data"
    },
    {
     "data": {
      "application/vnd.jupyter.widget-view+json": {
       "model_id": "810a6a0a8b8542d5a4fa81dbf6f30092",
       "version_major": 2,
       "version_minor": 0
      },
      "text/plain": [
       "Creating parquet from Arrow format:   0%|          | 0/1 [00:00<?, ?ba/s]"
      ]
     },
     "metadata": {},
     "output_type": "display_data"
    },
    {
     "name": "stdout",
     "output_type": "stream",
     "text": [
      "4\n"
     ]
    },
    {
     "data": {
      "application/vnd.jupyter.widget-view+json": {
       "model_id": "216994cc394d40c6922430047401b0d8",
       "version_major": 2,
       "version_minor": 0
      },
      "text/plain": [
       "Map:   0%|          | 0/331 [00:00<?, ? examples/s]"
      ]
     },
     "metadata": {},
     "output_type": "display_data"
    },
    {
     "data": {
      "application/vnd.jupyter.widget-view+json": {
       "model_id": "3130dedfd8dc495fb3a79228c6807840",
       "version_major": 2,
       "version_minor": 0
      },
      "text/plain": [
       "Creating parquet from Arrow format:   0%|          | 0/1 [00:00<?, ?ba/s]"
      ]
     },
     "metadata": {},
     "output_type": "display_data"
    },
    {
     "name": "stdout",
     "output_type": "stream",
     "text": [
      "5\n"
     ]
    },
    {
     "data": {
      "application/vnd.jupyter.widget-view+json": {
       "model_id": "3fe975ee054846d0af3854096df7748e",
       "version_major": 2,
       "version_minor": 0
      },
      "text/plain": [
       "Map:   0%|          | 0/392 [00:00<?, ? examples/s]"
      ]
     },
     "metadata": {},
     "output_type": "display_data"
    },
    {
     "data": {
      "application/vnd.jupyter.widget-view+json": {
       "model_id": "7b5b71fdd006412abfec5fb1ac82f3d9",
       "version_major": 2,
       "version_minor": 0
      },
      "text/plain": [
       "Creating parquet from Arrow format:   0%|          | 0/1 [00:00<?, ?ba/s]"
      ]
     },
     "metadata": {},
     "output_type": "display_data"
    },
    {
     "name": "stdout",
     "output_type": "stream",
     "text": [
      "6\n"
     ]
    },
    {
     "data": {
      "application/vnd.jupyter.widget-view+json": {
       "model_id": "75208490a89f4e348169949b5a0eed19",
       "version_major": 2,
       "version_minor": 0
      },
      "text/plain": [
       "Map:   0%|          | 0/300 [00:00<?, ? examples/s]"
      ]
     },
     "metadata": {},
     "output_type": "display_data"
    },
    {
     "data": {
      "application/vnd.jupyter.widget-view+json": {
       "model_id": "9bfd46e0bacd4cb7ae6f30e23ac70055",
       "version_major": 2,
       "version_minor": 0
      },
      "text/plain": [
       "Creating parquet from Arrow format:   0%|          | 0/1 [00:00<?, ?ba/s]"
      ]
     },
     "metadata": {},
     "output_type": "display_data"
    },
    {
     "name": "stdout",
     "output_type": "stream",
     "text": [
      "7\n"
     ]
    },
    {
     "data": {
      "application/vnd.jupyter.widget-view+json": {
       "model_id": "3c6f2f4415e640f492c2edff637f3b28",
       "version_major": 2,
       "version_minor": 0
      },
      "text/plain": [
       "Map:   0%|          | 0/367 [00:00<?, ? examples/s]"
      ]
     },
     "metadata": {},
     "output_type": "display_data"
    },
    {
     "data": {
      "application/vnd.jupyter.widget-view+json": {
       "model_id": "ec11edf145fd48e58700da7c30a728b7",
       "version_major": 2,
       "version_minor": 0
      },
      "text/plain": [
       "Creating parquet from Arrow format:   0%|          | 0/1 [00:00<?, ?ba/s]"
      ]
     },
     "metadata": {},
     "output_type": "display_data"
    },
    {
     "name": "stdout",
     "output_type": "stream",
     "text": [
      "8\n"
     ]
    },
    {
     "data": {
      "application/vnd.jupyter.widget-view+json": {
       "model_id": "3de0fde3f5424be3be885ff70c860798",
       "version_major": 2,
       "version_minor": 0
      },
      "text/plain": [
       "Map:   0%|          | 0/322 [00:00<?, ? examples/s]"
      ]
     },
     "metadata": {},
     "output_type": "display_data"
    },
    {
     "data": {
      "application/vnd.jupyter.widget-view+json": {
       "model_id": "93eae2a020184495a3dfd77c851afc7d",
       "version_major": 2,
       "version_minor": 0
      },
      "text/plain": [
       "Creating parquet from Arrow format:   0%|          | 0/1 [00:00<?, ?ba/s]"
      ]
     },
     "metadata": {},
     "output_type": "display_data"
    },
    {
     "name": "stdout",
     "output_type": "stream",
     "text": [
      "9\n"
     ]
    },
    {
     "data": {
      "application/vnd.jupyter.widget-view+json": {
       "model_id": "bfb18884dc994fd59dff53214cfc9bc3",
       "version_major": 2,
       "version_minor": 0
      },
      "text/plain": [
       "Map:   0%|          | 0/340 [00:00<?, ? examples/s]"
      ]
     },
     "metadata": {},
     "output_type": "display_data"
    },
    {
     "data": {
      "application/vnd.jupyter.widget-view+json": {
       "model_id": "a7bce5db167742be938a0dd17aa42b63",
       "version_major": 2,
       "version_minor": 0
      },
      "text/plain": [
       "Creating parquet from Arrow format:   0%|          | 0/1 [00:00<?, ?ba/s]"
      ]
     },
     "metadata": {},
     "output_type": "display_data"
    },
    {
     "name": "stdout",
     "output_type": "stream",
     "text": [
      "10\n"
     ]
    },
    {
     "data": {
      "application/vnd.jupyter.widget-view+json": {
       "model_id": "7aa10613b7904f479cdcbbc70f51543e",
       "version_major": 2,
       "version_minor": 0
      },
      "text/plain": [
       "Map:   0%|          | 0/313 [00:00<?, ? examples/s]"
      ]
     },
     "metadata": {},
     "output_type": "display_data"
    },
    {
     "data": {
      "application/vnd.jupyter.widget-view+json": {
       "model_id": "913b6ebc20be4e2580b0fb693f32c63b",
       "version_major": 2,
       "version_minor": 0
      },
      "text/plain": [
       "Creating parquet from Arrow format:   0%|          | 0/1 [00:00<?, ?ba/s]"
      ]
     },
     "metadata": {},
     "output_type": "display_data"
    },
    {
     "name": "stdout",
     "output_type": "stream",
     "text": [
      "11\n"
     ]
    },
    {
     "data": {
      "application/vnd.jupyter.widget-view+json": {
       "model_id": "2f3a786978bf480d98b9ad9ad1649942",
       "version_major": 2,
       "version_minor": 0
      },
      "text/plain": [
       "Map:   0%|          | 0/437 [00:00<?, ? examples/s]"
      ]
     },
     "metadata": {},
     "output_type": "display_data"
    },
    {
     "data": {
      "application/vnd.jupyter.widget-view+json": {
       "model_id": "749110f0aafc4f539d754b7a2b8121fc",
       "version_major": 2,
       "version_minor": 0
      },
      "text/plain": [
       "Creating parquet from Arrow format:   0%|          | 0/1 [00:00<?, ?ba/s]"
      ]
     },
     "metadata": {},
     "output_type": "display_data"
    },
    {
     "name": "stdout",
     "output_type": "stream",
     "text": [
      "12\n"
     ]
    },
    {
     "data": {
      "application/vnd.jupyter.widget-view+json": {
       "model_id": "7cc3aca4bc624cbea16a7b2eeae38718",
       "version_major": 2,
       "version_minor": 0
      },
      "text/plain": [
       "Map:   0%|          | 0/452 [00:00<?, ? examples/s]"
      ]
     },
     "metadata": {},
     "output_type": "display_data"
    },
    {
     "data": {
      "application/vnd.jupyter.widget-view+json": {
       "model_id": "81c4f6de881542c9973437150719a9ac",
       "version_major": 2,
       "version_minor": 0
      },
      "text/plain": [
       "Creating parquet from Arrow format:   0%|          | 0/1 [00:00<?, ?ba/s]"
      ]
     },
     "metadata": {},
     "output_type": "display_data"
    },
    {
     "name": "stdout",
     "output_type": "stream",
     "text": [
      "13\n"
     ]
    },
    {
     "data": {
      "application/vnd.jupyter.widget-view+json": {
       "model_id": "43c54b77c3434b058b4f205a7cc7e7ca",
       "version_major": 2,
       "version_minor": 0
      },
      "text/plain": [
       "Map:   0%|          | 0/438 [00:00<?, ? examples/s]"
      ]
     },
     "metadata": {},
     "output_type": "display_data"
    },
    {
     "data": {
      "application/vnd.jupyter.widget-view+json": {
       "model_id": "4e5d50b8191b43a4bfed2b2012c0c3a5",
       "version_major": 2,
       "version_minor": 0
      },
      "text/plain": [
       "Creating parquet from Arrow format:   0%|          | 0/1 [00:00<?, ?ba/s]"
      ]
     },
     "metadata": {},
     "output_type": "display_data"
    },
    {
     "name": "stdout",
     "output_type": "stream",
     "text": [
      "14\n"
     ]
    },
    {
     "data": {
      "application/vnd.jupyter.widget-view+json": {
       "model_id": "00792dea3ff442288cd09251c3d30032",
       "version_major": 2,
       "version_minor": 0
      },
      "text/plain": [
       "Map:   0%|          | 0/346 [00:00<?, ? examples/s]"
      ]
     },
     "metadata": {},
     "output_type": "display_data"
    },
    {
     "data": {
      "application/vnd.jupyter.widget-view+json": {
       "model_id": "0fc66e539d7c45928d386f63623e72fe",
       "version_major": 2,
       "version_minor": 0
      },
      "text/plain": [
       "Creating parquet from Arrow format:   0%|          | 0/1 [00:00<?, ?ba/s]"
      ]
     },
     "metadata": {},
     "output_type": "display_data"
    },
    {
     "name": "stdout",
     "output_type": "stream",
     "text": [
      "15\n"
     ]
    },
    {
     "data": {
      "application/vnd.jupyter.widget-view+json": {
       "model_id": "533a9fa11f8545e99e45d22ef6ee447c",
       "version_major": 2,
       "version_minor": 0
      },
      "text/plain": [
       "Map:   0%|          | 0/258 [00:00<?, ? examples/s]"
      ]
     },
     "metadata": {},
     "output_type": "display_data"
    },
    {
     "data": {
      "application/vnd.jupyter.widget-view+json": {
       "model_id": "fcf890e8b4c046b99b3f0b2605726e56",
       "version_major": 2,
       "version_minor": 0
      },
      "text/plain": [
       "Creating parquet from Arrow format:   0%|          | 0/1 [00:00<?, ?ba/s]"
      ]
     },
     "metadata": {},
     "output_type": "display_data"
    },
    {
     "name": "stdout",
     "output_type": "stream",
     "text": [
      "16\n"
     ]
    },
    {
     "data": {
      "application/vnd.jupyter.widget-view+json": {
       "model_id": "9c1084e7216741e7909d64f5ec21ead3",
       "version_major": 2,
       "version_minor": 0
      },
      "text/plain": [
       "Map:   0%|          | 0/295 [00:00<?, ? examples/s]"
      ]
     },
     "metadata": {},
     "output_type": "display_data"
    },
    {
     "data": {
      "application/vnd.jupyter.widget-view+json": {
       "model_id": "957f036788fd41e58435f140fc91f86f",
       "version_major": 2,
       "version_minor": 0
      },
      "text/plain": [
       "Creating parquet from Arrow format:   0%|          | 0/1 [00:00<?, ?ba/s]"
      ]
     },
     "metadata": {},
     "output_type": "display_data"
    },
    {
     "name": "stdout",
     "output_type": "stream",
     "text": [
      "17\n"
     ]
    },
    {
     "data": {
      "application/vnd.jupyter.widget-view+json": {
       "model_id": "6e07bb0f238c4cd2b875e7b80c28e7ed",
       "version_major": 2,
       "version_minor": 0
      },
      "text/plain": [
       "Map:   0%|          | 0/417 [00:00<?, ? examples/s]"
      ]
     },
     "metadata": {},
     "output_type": "display_data"
    },
    {
     "data": {
      "application/vnd.jupyter.widget-view+json": {
       "model_id": "52fe4866a2c2492e936d22e7d6bcc3d4",
       "version_major": 2,
       "version_minor": 0
      },
      "text/plain": [
       "Creating parquet from Arrow format:   0%|          | 0/1 [00:00<?, ?ba/s]"
      ]
     },
     "metadata": {},
     "output_type": "display_data"
    },
    {
     "name": "stdout",
     "output_type": "stream",
     "text": [
      "18\n"
     ]
    },
    {
     "data": {
      "application/vnd.jupyter.widget-view+json": {
       "model_id": "e6e9af02066743e1bd1590b0d14ca21a",
       "version_major": 2,
       "version_minor": 0
      },
      "text/plain": [
       "Map:   0%|          | 0/429 [00:00<?, ? examples/s]"
      ]
     },
     "metadata": {},
     "output_type": "display_data"
    },
    {
     "data": {
      "application/vnd.jupyter.widget-view+json": {
       "model_id": "ce704cd8229547ff961400bf618c398e",
       "version_major": 2,
       "version_minor": 0
      },
      "text/plain": [
       "Creating parquet from Arrow format:   0%|          | 0/1 [00:00<?, ?ba/s]"
      ]
     },
     "metadata": {},
     "output_type": "display_data"
    },
    {
     "name": "stdout",
     "output_type": "stream",
     "text": [
      "19\n"
     ]
    },
    {
     "data": {
      "application/vnd.jupyter.widget-view+json": {
       "model_id": "e2216026dfa04810a6d6cbee29c3585a",
       "version_major": 2,
       "version_minor": 0
      },
      "text/plain": [
       "Map:   0%|          | 0/534 [00:00<?, ? examples/s]"
      ]
     },
     "metadata": {},
     "output_type": "display_data"
    },
    {
     "data": {
      "application/vnd.jupyter.widget-view+json": {
       "model_id": "b32884a4468743478256fc83e1f6a146",
       "version_major": 2,
       "version_minor": 0
      },
      "text/plain": [
       "Creating parquet from Arrow format:   0%|          | 0/1 [00:00<?, ?ba/s]"
      ]
     },
     "metadata": {},
     "output_type": "display_data"
    },
    {
     "name": "stdout",
     "output_type": "stream",
     "text": [
      "20\n"
     ]
    },
    {
     "data": {
      "application/vnd.jupyter.widget-view+json": {
       "model_id": "fd396792a0fd46e9a2dc96c460d5ef1e",
       "version_major": 2,
       "version_minor": 0
      },
      "text/plain": [
       "Map:   0%|          | 0/386 [00:00<?, ? examples/s]"
      ]
     },
     "metadata": {},
     "output_type": "display_data"
    },
    {
     "data": {
      "application/vnd.jupyter.widget-view+json": {
       "model_id": "c15424315b5e41049688312a3fbd704a",
       "version_major": 2,
       "version_minor": 0
      },
      "text/plain": [
       "Creating parquet from Arrow format:   0%|          | 0/1 [00:00<?, ?ba/s]"
      ]
     },
     "metadata": {},
     "output_type": "display_data"
    },
    {
     "name": "stdout",
     "output_type": "stream",
     "text": [
      "21\n"
     ]
    },
    {
     "data": {
      "application/vnd.jupyter.widget-view+json": {
       "model_id": "d1b259f508d54e13a8834c11b67af2b1",
       "version_major": 2,
       "version_minor": 0
      },
      "text/plain": [
       "Map:   0%|          | 0/420 [00:00<?, ? examples/s]"
      ]
     },
     "metadata": {},
     "output_type": "display_data"
    },
    {
     "data": {
      "application/vnd.jupyter.widget-view+json": {
       "model_id": "0e6b53bcf623430f96a3dc89fc5587fb",
       "version_major": 2,
       "version_minor": 0
      },
      "text/plain": [
       "Creating parquet from Arrow format:   0%|          | 0/1 [00:00<?, ?ba/s]"
      ]
     },
     "metadata": {},
     "output_type": "display_data"
    }
   ],
   "source": [
    "start_indices, end_indices = dataset.episode_data_index[\"from\"], dataset.episode_data_index[\"to\"]\n",
    "for episode_index, (start,end) in enumerate(zip(start_indices,end_indices)):\n",
    "    print(episode_index)\n",
    "    for idx in range(start.item(), end.item()):\n",
    "        frame = custom_get_item(dataset,idx,episode_index)\n",
    "       # these are auto-generated, so remove them from the frame\n",
    "        features_to_drop_list = [\"index\", \"timestamp\", \"frame_index\", \"episode_index\", \"task_index\"]\n",
    "        \n",
    "        frame = {k: v for k, v in frame.items() if k not in features_to_drop_list}\n",
    "        for key, value in frame.items():\n",
    "            # drop auto-generated meta data\n",
    "            # convert 0D tensors to 1D tensors\n",
    "            if hasattr(value, \"shape\") and len(value.shape) == 0:\n",
    "                value = value.unsqueeze(0)\n",
    "                frame[key] = value\n",
    "            # make images channel-last again\n",
    "            if hasattr(value, \"shape\") and len(value.shape) == 3:\n",
    "                value = value.permute(1, 2, 0)\n",
    "                frame[key] = value\n",
    "\n",
    "        new_dataset.add_frame(frame)\n",
    "\n",
    "    new_dataset.save_episode()\n"
   ]
  },
  {
   "cell_type": "code",
   "execution_count": 73,
   "metadata": {},
   "outputs": [
    {
     "name": "stdout",
     "output_type": "stream",
     "text": [
      "torch.Size([48])\n",
      "19310\n",
      "episode_index=0\n",
      "tensor(0)\n",
      "tensor(443)\n",
      "episode_index=1\n",
      "tensor(443)\n",
      "tensor(867)\n",
      "episode_index=2\n",
      "tensor(867)\n",
      "tensor(1276)\n",
      "episode_index=3\n",
      "tensor(1276)\n",
      "tensor(1673)\n",
      "episode_index=4\n",
      "tensor(1673)\n",
      "tensor(2004)\n",
      "episode_index=5\n",
      "tensor(2004)\n",
      "tensor(2396)\n",
      "episode_index=6\n",
      "tensor(2396)\n",
      "tensor(2696)\n",
      "episode_index=7\n",
      "tensor(2696)\n",
      "tensor(3063)\n",
      "episode_index=8\n",
      "tensor(3063)\n",
      "tensor(3385)\n",
      "episode_index=9\n",
      "tensor(3385)\n",
      "tensor(3725)\n",
      "episode_index=10\n",
      "tensor(3725)\n",
      "tensor(4038)\n",
      "episode_index=11\n",
      "tensor(4038)\n",
      "tensor(4475)\n",
      "episode_index=12\n",
      "tensor(4475)\n",
      "tensor(4927)\n",
      "episode_index=13\n",
      "tensor(4927)\n",
      "tensor(5365)\n",
      "episode_index=14\n",
      "tensor(5365)\n",
      "tensor(5711)\n",
      "episode_index=15\n",
      "tensor(5711)\n",
      "tensor(5969)\n",
      "episode_index=16\n",
      "tensor(5969)\n",
      "tensor(6264)\n",
      "episode_index=17\n",
      "tensor(6264)\n",
      "tensor(6681)\n",
      "episode_index=18\n",
      "tensor(6681)\n",
      "tensor(7110)\n",
      "episode_index=19\n",
      "tensor(7110)\n",
      "tensor(7644)\n",
      "episode_index=20\n",
      "tensor(7644)\n",
      "tensor(8030)\n",
      "episode_index=21\n",
      "tensor(8030)\n",
      "tensor(8450)\n",
      "episode_index=22\n",
      "tensor(8450)\n",
      "tensor(8898)\n",
      "episode_index=23\n",
      "tensor(8898)\n",
      "tensor(9325)\n",
      "episode_index=24\n",
      "tensor(9325)\n",
      "tensor(9686)\n",
      "episode_index=25\n",
      "tensor(9686)\n",
      "tensor(10090)\n",
      "episode_index=26\n",
      "tensor(10090)\n",
      "tensor(10503)\n",
      "episode_index=27\n",
      "tensor(10503)\n",
      "tensor(10929)\n",
      "episode_index=28\n",
      "tensor(10929)\n",
      "tensor(11337)\n",
      "episode_index=29\n",
      "tensor(11337)\n",
      "tensor(11794)\n",
      "episode_index=30\n",
      "tensor(11794)\n",
      "tensor(12231)\n",
      "episode_index=31\n",
      "tensor(12231)\n",
      "tensor(12618)\n",
      "episode_index=32\n",
      "tensor(12618)\n",
      "tensor(13093)\n",
      "episode_index=33\n",
      "tensor(13093)\n",
      "tensor(13554)\n",
      "episode_index=34\n",
      "tensor(13554)\n",
      "tensor(13952)\n",
      "episode_index=35\n",
      "tensor(13952)\n",
      "tensor(14383)\n",
      "episode_index=36\n",
      "tensor(14383)\n",
      "tensor(14821)\n",
      "episode_index=37\n",
      "tensor(14821)\n",
      "tensor(15226)\n",
      "episode_index=38\n",
      "tensor(15226)\n",
      "tensor(15646)\n",
      "episode_index=39\n",
      "tensor(15646)\n",
      "tensor(16083)\n",
      "episode_index=40\n",
      "tensor(16083)\n",
      "tensor(16472)\n",
      "episode_index=41\n",
      "tensor(16472)\n",
      "tensor(16862)\n",
      "episode_index=42\n",
      "tensor(16862)\n",
      "tensor(17241)\n",
      "episode_index=43\n",
      "tensor(17241)\n",
      "tensor(17658)\n",
      "episode_index=44\n",
      "tensor(17658)\n",
      "tensor(18090)\n",
      "episode_index=45\n",
      "tensor(18090)\n",
      "tensor(18475)\n",
      "episode_index=46\n",
      "tensor(18475)\n",
      "tensor(18905)\n"
     ]
    },
    {
     "ename": "RuntimeError",
     "evalue": "Could not open input file: /home/tlips/Code/robot-imitation-glue/datasets/pour-cup-backup/videos/chunk-000/wrist_image_original/episode_000048.mp4 No such file or directory",
     "output_type": "error",
     "traceback": [
      "\u001b[0;31m---------------------------------------------------------------------------\u001b[0m",
      "\u001b[0;31mRuntimeError\u001b[0m                              Traceback (most recent call last)",
      "Cell \u001b[0;32mIn[73], line 24\u001b[0m\n\u001b[1;32m     21\u001b[0m \u001b[38;5;28mprint\u001b[39m(start)\n\u001b[1;32m     22\u001b[0m \u001b[38;5;28mprint\u001b[39m(end)\n\u001b[0;32m---> 24\u001b[0m start_img \u001b[38;5;241m=\u001b[39m \u001b[43mdataset\u001b[49m\u001b[43m[\u001b[49m\u001b[43mstart\u001b[49m\u001b[38;5;241;43m.\u001b[39;49m\u001b[43mitem\u001b[49m\u001b[43m(\u001b[49m\u001b[43m)\u001b[49m\u001b[43m]\u001b[49m[img_name]\n\u001b[1;32m     25\u001b[0m end \u001b[38;5;241m=\u001b[39m end\u001b[38;5;241m.\u001b[39mitem() \u001b[38;5;241m-\u001b[39m\u001b[38;5;241m1\u001b[39m\n\u001b[1;32m     26\u001b[0m end_img \u001b[38;5;241m=\u001b[39m custom_get_item(dataset,end,episode_index)[img_name]\n",
      "File \u001b[0;32m~/Code/robot-imitation-glue/lerobot/lerobot/common/datasets/lerobot_dataset.py:739\u001b[0m, in \u001b[0;36mLeRobotDataset.__getitem__\u001b[0;34m(self, idx)\u001b[0m\n\u001b[1;32m    737\u001b[0m     current_ts \u001b[38;5;241m=\u001b[39m item[\u001b[38;5;124m\"\u001b[39m\u001b[38;5;124mtimestamp\u001b[39m\u001b[38;5;124m\"\u001b[39m]\u001b[38;5;241m.\u001b[39mitem()\n\u001b[1;32m    738\u001b[0m     query_timestamps \u001b[38;5;241m=\u001b[39m \u001b[38;5;28mself\u001b[39m\u001b[38;5;241m.\u001b[39m_get_query_timestamps(current_ts, query_indices)\n\u001b[0;32m--> 739\u001b[0m     video_frames \u001b[38;5;241m=\u001b[39m \u001b[38;5;28;43mself\u001b[39;49m\u001b[38;5;241;43m.\u001b[39;49m\u001b[43m_query_videos\u001b[49m\u001b[43m(\u001b[49m\u001b[43mquery_timestamps\u001b[49m\u001b[43m,\u001b[49m\u001b[43m \u001b[49m\u001b[43mep_idx\u001b[49m\u001b[43m)\u001b[49m\n\u001b[1;32m    740\u001b[0m     item \u001b[38;5;241m=\u001b[39m {\u001b[38;5;241m*\u001b[39m\u001b[38;5;241m*\u001b[39mvideo_frames, \u001b[38;5;241m*\u001b[39m\u001b[38;5;241m*\u001b[39mitem}\n\u001b[1;32m    742\u001b[0m \u001b[38;5;28;01mif\u001b[39;00m \u001b[38;5;28mself\u001b[39m\u001b[38;5;241m.\u001b[39mimage_transforms \u001b[38;5;129;01mis\u001b[39;00m \u001b[38;5;129;01mnot\u001b[39;00m \u001b[38;5;28;01mNone\u001b[39;00m:\n",
      "File \u001b[0;32m~/Code/robot-imitation-glue/lerobot/lerobot/common/datasets/lerobot_dataset.py:711\u001b[0m, in \u001b[0;36mLeRobotDataset._query_videos\u001b[0;34m(self, query_timestamps, ep_idx)\u001b[0m\n\u001b[1;32m    709\u001b[0m \u001b[38;5;28;01mfor\u001b[39;00m vid_key, query_ts \u001b[38;5;129;01min\u001b[39;00m query_timestamps\u001b[38;5;241m.\u001b[39mitems():\n\u001b[1;32m    710\u001b[0m     video_path \u001b[38;5;241m=\u001b[39m \u001b[38;5;28mself\u001b[39m\u001b[38;5;241m.\u001b[39mroot \u001b[38;5;241m/\u001b[39m \u001b[38;5;28mself\u001b[39m\u001b[38;5;241m.\u001b[39mmeta\u001b[38;5;241m.\u001b[39mget_video_file_path(ep_idx, vid_key)\n\u001b[0;32m--> 711\u001b[0m     frames \u001b[38;5;241m=\u001b[39m \u001b[43mdecode_video_frames\u001b[49m\u001b[43m(\u001b[49m\u001b[43mvideo_path\u001b[49m\u001b[43m,\u001b[49m\u001b[43m \u001b[49m\u001b[43mquery_ts\u001b[49m\u001b[43m,\u001b[49m\u001b[43m \u001b[49m\u001b[38;5;28;43mself\u001b[39;49m\u001b[38;5;241;43m.\u001b[39;49m\u001b[43mtolerance_s\u001b[49m\u001b[43m,\u001b[49m\u001b[43m \u001b[49m\u001b[38;5;28;43mself\u001b[39;49m\u001b[38;5;241;43m.\u001b[39;49m\u001b[43mvideo_backend\u001b[49m\u001b[43m)\u001b[49m\n\u001b[1;32m    712\u001b[0m     item[vid_key] \u001b[38;5;241m=\u001b[39m frames\u001b[38;5;241m.\u001b[39msqueeze(\u001b[38;5;241m0\u001b[39m)\n\u001b[1;32m    714\u001b[0m \u001b[38;5;28;01mreturn\u001b[39;00m item\n",
      "File \u001b[0;32m~/Code/robot-imitation-glue/lerobot/lerobot/common/datasets/video_utils.py:66\u001b[0m, in \u001b[0;36mdecode_video_frames\u001b[0;34m(video_path, timestamps, tolerance_s, backend)\u001b[0m\n\u001b[1;32m     64\u001b[0m     backend \u001b[38;5;241m=\u001b[39m get_safe_default_codec()\n\u001b[1;32m     65\u001b[0m \u001b[38;5;28;01mif\u001b[39;00m backend \u001b[38;5;241m==\u001b[39m \u001b[38;5;124m\"\u001b[39m\u001b[38;5;124mtorchcodec\u001b[39m\u001b[38;5;124m\"\u001b[39m:\n\u001b[0;32m---> 66\u001b[0m     \u001b[38;5;28;01mreturn\u001b[39;00m \u001b[43mdecode_video_frames_torchcodec\u001b[49m\u001b[43m(\u001b[49m\u001b[43mvideo_path\u001b[49m\u001b[43m,\u001b[49m\u001b[43m \u001b[49m\u001b[43mtimestamps\u001b[49m\u001b[43m,\u001b[49m\u001b[43m \u001b[49m\u001b[43mtolerance_s\u001b[49m\u001b[43m)\u001b[49m\n\u001b[1;32m     67\u001b[0m \u001b[38;5;28;01melif\u001b[39;00m backend \u001b[38;5;129;01min\u001b[39;00m [\u001b[38;5;124m\"\u001b[39m\u001b[38;5;124mpyav\u001b[39m\u001b[38;5;124m\"\u001b[39m, \u001b[38;5;124m\"\u001b[39m\u001b[38;5;124mvideo_reader\u001b[39m\u001b[38;5;124m\"\u001b[39m]:\n\u001b[1;32m     68\u001b[0m     \u001b[38;5;28;01mreturn\u001b[39;00m decode_video_frames_torchvision(video_path, timestamps, tolerance_s, backend)\n",
      "File \u001b[0;32m~/Code/robot-imitation-glue/lerobot/lerobot/common/datasets/video_utils.py:195\u001b[0m, in \u001b[0;36mdecode_video_frames_torchcodec\u001b[0;34m(video_path, timestamps, tolerance_s, device, log_loaded_timestamps)\u001b[0m\n\u001b[1;32m    192\u001b[0m     \u001b[38;5;28;01mraise\u001b[39;00m \u001b[38;5;167;01mImportError\u001b[39;00m(\u001b[38;5;124m\"\u001b[39m\u001b[38;5;124mtorchcodec is required but not available.\u001b[39m\u001b[38;5;124m\"\u001b[39m)\n\u001b[1;32m    194\u001b[0m \u001b[38;5;66;03m# initialize video decoder\u001b[39;00m\n\u001b[0;32m--> 195\u001b[0m decoder \u001b[38;5;241m=\u001b[39m \u001b[43mVideoDecoder\u001b[49m\u001b[43m(\u001b[49m\u001b[43mvideo_path\u001b[49m\u001b[43m,\u001b[49m\u001b[43m \u001b[49m\u001b[43mdevice\u001b[49m\u001b[38;5;241;43m=\u001b[39;49m\u001b[43mdevice\u001b[49m\u001b[43m,\u001b[49m\u001b[43m \u001b[49m\u001b[43mseek_mode\u001b[49m\u001b[38;5;241;43m=\u001b[39;49m\u001b[38;5;124;43m\"\u001b[39;49m\u001b[38;5;124;43mapproximate\u001b[39;49m\u001b[38;5;124;43m\"\u001b[39;49m\u001b[43m)\u001b[49m\n\u001b[1;32m    196\u001b[0m loaded_frames \u001b[38;5;241m=\u001b[39m []\n\u001b[1;32m    197\u001b[0m loaded_ts \u001b[38;5;241m=\u001b[39m []\n",
      "File \u001b[0;32m~/miniconda3/envs/robilglue/lib/python3.10/site-packages/torchcodec/decoders/_video_decoder.py:86\u001b[0m, in \u001b[0;36mVideoDecoder.__init__\u001b[0;34m(self, source, stream_index, dimension_order, num_ffmpeg_threads, device, seek_mode)\u001b[0m\n\u001b[1;32m     80\u001b[0m \u001b[38;5;28;01mif\u001b[39;00m seek_mode \u001b[38;5;129;01mnot\u001b[39;00m \u001b[38;5;129;01min\u001b[39;00m allowed_seek_modes:\n\u001b[1;32m     81\u001b[0m     \u001b[38;5;28;01mraise\u001b[39;00m \u001b[38;5;167;01mValueError\u001b[39;00m(\n\u001b[1;32m     82\u001b[0m         \u001b[38;5;124mf\u001b[39m\u001b[38;5;124m\"\u001b[39m\u001b[38;5;124mInvalid seek mode (\u001b[39m\u001b[38;5;132;01m{\u001b[39;00mseek_mode\u001b[38;5;132;01m}\u001b[39;00m\u001b[38;5;124m). \u001b[39m\u001b[38;5;124m\"\u001b[39m\n\u001b[1;32m     83\u001b[0m         \u001b[38;5;124mf\u001b[39m\u001b[38;5;124m\"\u001b[39m\u001b[38;5;124mSupported values are \u001b[39m\u001b[38;5;132;01m{\u001b[39;00m\u001b[38;5;124m'\u001b[39m\u001b[38;5;124m, \u001b[39m\u001b[38;5;124m'\u001b[39m\u001b[38;5;241m.\u001b[39mjoin(allowed_seek_modes)\u001b[38;5;132;01m}\u001b[39;00m\u001b[38;5;124m.\u001b[39m\u001b[38;5;124m\"\u001b[39m\n\u001b[1;32m     84\u001b[0m     )\n\u001b[0;32m---> 86\u001b[0m \u001b[38;5;28mself\u001b[39m\u001b[38;5;241m.\u001b[39m_decoder \u001b[38;5;241m=\u001b[39m \u001b[43mcreate_decoder\u001b[49m\u001b[43m(\u001b[49m\u001b[43msource\u001b[49m\u001b[38;5;241;43m=\u001b[39;49m\u001b[43msource\u001b[49m\u001b[43m,\u001b[49m\u001b[43m \u001b[49m\u001b[43mseek_mode\u001b[49m\u001b[38;5;241;43m=\u001b[39;49m\u001b[43mseek_mode\u001b[49m\u001b[43m)\u001b[49m\n\u001b[1;32m     88\u001b[0m allowed_dimension_orders \u001b[38;5;241m=\u001b[39m (\u001b[38;5;124m\"\u001b[39m\u001b[38;5;124mNCHW\u001b[39m\u001b[38;5;124m\"\u001b[39m, \u001b[38;5;124m\"\u001b[39m\u001b[38;5;124mNHWC\u001b[39m\u001b[38;5;124m\"\u001b[39m)\n\u001b[1;32m     89\u001b[0m \u001b[38;5;28;01mif\u001b[39;00m dimension_order \u001b[38;5;129;01mnot\u001b[39;00m \u001b[38;5;129;01min\u001b[39;00m allowed_dimension_orders:\n",
      "File \u001b[0;32m~/miniconda3/envs/robilglue/lib/python3.10/site-packages/torchcodec/decoders/_decoder_utils.py:26\u001b[0m, in \u001b[0;36mcreate_decoder\u001b[0;34m(source, seek_mode)\u001b[0m\n\u001b[1;32m     24\u001b[0m     \u001b[38;5;28;01mreturn\u001b[39;00m core\u001b[38;5;241m.\u001b[39mcreate_from_file(source, seek_mode)\n\u001b[1;32m     25\u001b[0m \u001b[38;5;28;01melif\u001b[39;00m \u001b[38;5;28misinstance\u001b[39m(source, Path):\n\u001b[0;32m---> 26\u001b[0m     \u001b[38;5;28;01mreturn\u001b[39;00m \u001b[43mcore\u001b[49m\u001b[38;5;241;43m.\u001b[39;49m\u001b[43mcreate_from_file\u001b[49m\u001b[43m(\u001b[49m\u001b[38;5;28;43mstr\u001b[39;49m\u001b[43m(\u001b[49m\u001b[43msource\u001b[49m\u001b[43m)\u001b[49m\u001b[43m,\u001b[49m\u001b[43m \u001b[49m\u001b[43mseek_mode\u001b[49m\u001b[43m)\u001b[49m\n\u001b[1;32m     27\u001b[0m \u001b[38;5;28;01melif\u001b[39;00m \u001b[38;5;28misinstance\u001b[39m(source, \u001b[38;5;28mbytes\u001b[39m):\n\u001b[1;32m     28\u001b[0m     \u001b[38;5;28;01mreturn\u001b[39;00m core\u001b[38;5;241m.\u001b[39mcreate_from_bytes(source, seek_mode)\n",
      "File \u001b[0;32m~/miniconda3/envs/robilglue/lib/python3.10/site-packages/torch/_ops.py:723\u001b[0m, in \u001b[0;36mOpOverload.__call__\u001b[0;34m(self, *args, **kwargs)\u001b[0m\n\u001b[1;32m    722\u001b[0m \u001b[38;5;28;01mdef\u001b[39;00m \u001b[38;5;21m__call__\u001b[39m(\u001b[38;5;28mself\u001b[39m, \u001b[38;5;241m/\u001b[39m, \u001b[38;5;241m*\u001b[39margs, \u001b[38;5;241m*\u001b[39m\u001b[38;5;241m*\u001b[39mkwargs):\n\u001b[0;32m--> 723\u001b[0m     \u001b[38;5;28;01mreturn\u001b[39;00m \u001b[38;5;28;43mself\u001b[39;49m\u001b[38;5;241;43m.\u001b[39;49m\u001b[43m_op\u001b[49m\u001b[43m(\u001b[49m\u001b[38;5;241;43m*\u001b[39;49m\u001b[43margs\u001b[49m\u001b[43m,\u001b[49m\u001b[43m \u001b[49m\u001b[38;5;241;43m*\u001b[39;49m\u001b[38;5;241;43m*\u001b[39;49m\u001b[43mkwargs\u001b[49m\u001b[43m)\u001b[49m\n",
      "\u001b[0;31mRuntimeError\u001b[0m: Could not open input file: /home/tlips/Code/robot-imitation-glue/datasets/pour-cup-backup/videos/chunk-000/wrist_image_original/episode_000048.mp4 No such file or directory"
     ]
    }
   ],
   "source": [
    "start_indices, end_indices = dataset.episode_data_index[\"from\"], dataset.episode_data_index[\"to\"]\n",
    "\n",
    "def visualize_images(start,end):\n",
    "    import matplotlib.pyplot as plt \n",
    "    fig, (ax1, ax2) = plt.subplots(1, 2, figsize=(10, 5))\n",
    "    ax1.imshow(start)\n",
    "    ax1.set_title('Start Image')\n",
    "    ax1.axis('off')\n",
    "    ax2.imshow(end) \n",
    "    ax2.set_title('End Image')\n",
    "    ax2.axis('off')\n",
    "    plt.show()\n",
    "\n",
    "print(start_indices.shape)\n",
    "print(len(dataset))\n",
    "for episode_index, (start,end) in enumerate(zip(start_indices,end_indices)):\n",
    "    print(f\"{episode_index=}\")\n",
    "    # for i in range(start.item(), end.item()):\n",
    "    #     x = dataset[i]\n",
    "    # print(episode_index)\n",
    "    print(start)\n",
    "    print(end)\n",
    "\n",
    "    start_img = dataset[start.item()][img_name]\n",
    "    end = end.item() -1\n",
    "    end_img = custom_get_item(dataset,end,episode_index)[img_name]\n",
    "\n",
    "    start_img = start_img.permute(1,2,0).numpy()\n",
    "    end_img = end_img.permute(1,2,0).numpy()\n",
    "    #visualize_images(start_img,end_img)"
   ]
  },
  {
   "cell_type": "code",
   "execution_count": null,
   "metadata": {},
   "outputs": [],
   "source": []
  }
 ],
 "metadata": {
  "kernelspec": {
   "display_name": "robilglue",
   "language": "python",
   "name": "python3"
  },
  "language_info": {
   "codemirror_mode": {
    "name": "ipython",
    "version": 3
   },
   "file_extension": ".py",
   "mimetype": "text/x-python",
   "name": "python",
   "nbconvert_exporter": "python",
   "pygments_lexer": "ipython3",
   "version": "3.10.16"
  }
 },
 "nbformat": 4,
 "nbformat_minor": 2
}
